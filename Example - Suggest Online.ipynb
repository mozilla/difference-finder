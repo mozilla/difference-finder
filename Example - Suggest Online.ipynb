{
 "cells": [
  {
   "cell_type": "markdown",
   "id": "6bf64bae",
   "metadata": {},
   "source": [
    "# Example - Suggest Online\n",
    "An example of using moz_preprocess and difference_finder to segment clients by Suggest Online vs Suggest Offline, and look for differences between those 2 segments."
   ]
  },
  {
   "cell_type": "code",
   "execution_count": 7,
   "id": "e7b98237",
   "metadata": {},
   "outputs": [
    {
     "name": "stdout",
     "output_type": "stream",
     "text": [
      "Collecting db_dtypes\n",
      "  Using cached db_dtypes-1.0.5-py2.py3-none-any.whl (14 kB)\n",
      "Requirement already satisfied: packaging>=17.0 in /Users/yyoo/opt/anaconda3/envs/diff_finder/lib/python3.10/site-packages (from db_dtypes) (22.0)\n",
      "Collecting pyarrow>=3.0.0\n",
      "  Using cached pyarrow-11.0.0-cp310-cp310-macosx_10_14_x86_64.whl (24.4 MB)\n",
      "Requirement already satisfied: numpy<2.0dev,>=1.16.6 in /Users/yyoo/opt/anaconda3/envs/diff_finder/lib/python3.10/site-packages (from db_dtypes) (1.24.2)\n",
      "Requirement already satisfied: pandas<2.0dev,>=0.24.2 in /Users/yyoo/opt/anaconda3/envs/diff_finder/lib/python3.10/site-packages (from db_dtypes) (1.5.3)\n",
      "Requirement already satisfied: python-dateutil>=2.8.1 in /Users/yyoo/opt/anaconda3/envs/diff_finder/lib/python3.10/site-packages (from pandas<2.0dev,>=0.24.2->db_dtypes) (2.8.2)\n",
      "Requirement already satisfied: pytz>=2020.1 in /Users/yyoo/opt/anaconda3/envs/diff_finder/lib/python3.10/site-packages (from pandas<2.0dev,>=0.24.2->db_dtypes) (2022.7.1)\n",
      "Requirement already satisfied: six>=1.5 in /Users/yyoo/opt/anaconda3/envs/diff_finder/lib/python3.10/site-packages (from python-dateutil>=2.8.1->pandas<2.0dev,>=0.24.2->db_dtypes) (1.16.0)\n",
      "Installing collected packages: pyarrow, db_dtypes\n",
      "Successfully installed db_dtypes-1.0.5 pyarrow-11.0.0\n",
      "Note: you may need to restart the kernel to use updated packages.\n"
     ]
    }
   ],
   "source": [
    "#possible libraries to install before using the diff-finder library. \n",
    "#They will be included in the requirement for the package later\n",
    "\n",
    "#%pip install google-cloud-bigquery\n",
    "#%pip install db_dtypes"
   ]
  },
  {
   "cell_type": "code",
   "execution_count": 1,
   "id": "30f392bc",
   "metadata": {},
   "outputs": [],
   "source": [
    "import pandas as pd\n",
    "from moz_preprocess.bq_utils import fetch_weekly_aggregate\n",
    "from moz_preprocess.preprocess import preprocess"
   ]
  },
  {
   "cell_type": "markdown",
   "id": "637dd514",
   "metadata": {},
   "source": [
    "# Fetch data from BigQuery"
   ]
  },
  {
   "cell_type": "code",
   "execution_count": 2,
   "id": "908c99e0",
   "metadata": {},
   "outputs": [
    {
     "name": "stdout",
     "output_type": "stream",
     "text": [
      "Your browser has been opened to visit:\n",
      "\n",
      "    https://accounts.google.com/o/oauth2/auth?response_type=code&client_id=32555940559.apps.googleusercontent.com&redirect_uri=http%3A%2F%2Flocalhost%3A8085%2F&scope=openid+https%3A%2F%2Fwww.googleapis.com%2Fauth%2Fuserinfo.email+https%3A%2F%2Fwww.googleapis.com%2Fauth%2Fcloud-platform+https%3A%2F%2Fwww.googleapis.com%2Fauth%2Fappengine.admin+https%3A%2F%2Fwww.googleapis.com%2Fauth%2Fsqlservice.login+https%3A%2F%2Fwww.googleapis.com%2Fauth%2Fcompute+https%3A%2F%2Fwww.googleapis.com%2Fauth%2Faccounts.reauth&state=jHZRkQK1FZpVasjraEtdC6qirAMrGs&access_type=offline&code_challenge=c5aocpEEAsHB6owgjdubYwe0qdYELjqcAhDuqoIqcQU&code_challenge_method=S256\n",
      "\n",
      "\n",
      "Application default credentials (ADC) were updated.\n",
      "\n",
      "You are now logged in as [ysmith@mozilla.com].\n",
      "Your current project is [mozdata].  You can change this setting by running:\n",
      "  $ gcloud config set project PROJECT_ID\n",
      "\n",
      "\n",
      "To take a quick anonymous survey, run:\n",
      "  $ gcloud survey\n",
      "\n"
     ]
    }
   ],
   "source": [
    "!gcloud auth login --update-adc"
   ]
  },
  {
   "cell_type": "code",
   "execution_count": 3,
   "id": "d8e7ca81",
   "metadata": {},
   "outputs": [],
   "source": [
    "# This will take a few minutes to run.\n",
    "sample = 30000\n",
    "\n",
    "df_from_bq = fetch_weekly_aggregate(\n",
    "    week_start_date=\"2023-01-15\",  # Choose a different start date to avoid lunar new year.\n",
    "    segment=\"\"\"\n",
    "    CASE WHEN user_pref_browser_urlbar_quicksuggest_data_collection_enabled = 'true'\n",
    "         THEN 'online' \n",
    "         ELSE 'offline' \n",
    "         END\n",
    "    \"\"\",\n",
    "    target=\"country = 'US' and normalized_channel = 'release' and locale like 'en%'\",\n",
    "    sample=sample,  # The dataset is 15 million rows without sampling.\n",
    "    verbose=False  # Set True to see the SQL that is run.\n",
    ")  "
   ]
  },
  {
   "cell_type": "code",
   "execution_count": 3,
   "id": "2645f385",
   "metadata": {},
   "outputs": [
    {
     "data": {
      "text/plain": [
       "offline    10087\n",
       "online     10050\n",
       "Name: segment, dtype: int64"
      ]
     },
     "execution_count": 3,
     "metadata": {},
     "output_type": "execute_result"
    }
   ],
   "source": [
    "df_from_bq.segment.value_counts()"
   ]
  },
  {
   "cell_type": "markdown",
   "id": "909d0fff",
   "metadata": {},
   "source": [
    "# Preprocess data for difference-finder"
   ]
  },
  {
   "cell_type": "code",
   "execution_count": null,
   "id": "56f7f916",
   "metadata": {},
   "outputs": [],
   "source": [
    "cols_to_drop = [\n",
    "    # To Do: don't drop these fields. preprocess them instead.\n",
    "    \"attribution\",\n",
    "    \"browser_version_info\",\n",
    "    \"active_addons\",\n",
    "    \"a11y_theme\",\n",
    "    \"experiments\",\n",
    "    \"scalar_parent_browser_ui_interaction_content_context_sum\",\n",
    "    \"scalar_parent_browser_ui_interaction_preferences_pane_home_sum\",\n",
    "    \"scalar_parent_devtools_accessibility_select_accessible_for_node_sum\",\n",
    "]\n",
    "discrete_cols = [\n",
    "  \"addon_compatibility_check_enabled\",\n",
    "  \"app_display_version\",\n",
    "  \"blocklist_enabled\",\n",
    "  \"cpu_cores\",\n",
    "  \"cpu_count\",\n",
    "  \"cpu_family\",\n",
    "  \"cpu_l2_cache_kb\",\n",
    "  \"cpu_l3_cache_kb\",\n",
    "  \"cpu_model\",\n",
    "  \"cpu_speed_mhz\",\n",
    "  \"cpu_stepping\",\n",
    "  \"cpu_vendor\",\n",
    "  \"default_search_engine_data_name\",\n",
    "  \"distribution_id\",\n",
    "  \"e10s_enabled\",\n",
    "  \"env_build_arch\",\n",
    "  \"flash_version\",\n",
    "  \"country\",\n",
    "  \"city\",\n",
    "  \"geo_subdivision1\",\n",
    "  \"geo_subdivision2\",\n",
    "  \"isp_name\",\n",
    "  \"isp_organization\",\n",
    "  \"gfx_features_advanced_layers_status\",\n",
    "  \"gfx_features_d2d_status\",\n",
    "  \"gfx_features_d3d11_status\",\n",
    "  \"gfx_features_gpu_process_status\",\n",
    "  \"install_year\",\n",
    "  \"is_default_browser\",\n",
    "  \"is_wow64\",\n",
    "  \"locale\",\n",
    "  \"memory_mb\",\n",
    "  \"normalized_channel\",\n",
    "  \"normalized_os_version\",\n",
    "  \"os\",\n",
    "  \"os_version\",\n",
    "  \"sandbox_effective_content_process_level\",\n",
    "  \"sync_configured\",\n",
    "  \"telemetry_enabled\",\n",
    "  \"timezone_offset\",\n",
    "  \"update_auto_download\",\n",
    "  \"update_channel\",\n",
    "  \"update_enabled\",\n",
    "  \"vendor\",\n",
    "  \"windows_build_number\",\n",
    "  \"windows_ubr\",\n",
    "  \"fxa_configured\",\n",
    "  \"scalar_parent_os_environment_is_taskbar_pinned\",\n",
    "  \"scalar_parent_os_environment_launched_via_desktop\",\n",
    "  \"scalar_parent_os_environment_launched_via_taskbar\",\n",
    "  \"scalar_parent_os_environment_launched_via_other\",\n",
    "  \"scalar_parent_os_environment_launched_via_start_menu\",\n",
    "  \"scalar_parent_os_environment_launched_via_other_shortcut\",\n",
    "  \"default_private_search_engine\",\n",
    "  \"user_pref_browser_search_region\",\n",
    "  \"update_background\",\n",
    "  \"user_pref_browser_urlbar_suggest_searches\",\n",
    "  \"user_pref_browser_newtabpage_enabled\",\n",
    "  \"user_pref_app_shield_optoutstudies_enabled\",\n",
    "  \"scalar_parent_os_environment_launched_via_taskbar_private\",\n",
    "  \"dom_parentprocess_private_window_used\",\n",
    "  \"os_environment_is_taskbar_pinned_any\",\n",
    "  \"os_environment_is_taskbar_pinned_private_any\",\n",
    "  \"os_environment_is_taskbar_pinned_private\",\n",
    "  \"search_cohort\",\n",
    "  \"user_pref_browser_urlbar_quicksuggest_data_collection_enabled\",\n",
    "]"
   ]
  },
  {
   "cell_type": "code",
   "execution_count": null,
   "id": "c39f5544",
   "metadata": {},
   "outputs": [],
   "source": [
    "dummies = []\n",
    "for col in discrete_cols:\n",
    "    dummies.append(preprocess(df_from_bq[col], col, int(0.01*sample)))\n",
    "\n",
    "df = pd.concat([df_from_bq.drop(cols_to_drop + discrete_cols, axis=1)] + [x for x in dummies if x])\n",
    "print(df.shape)"
   ]
  },
  {
   "cell_type": "markdown",
   "id": "d14e0424",
   "metadata": {},
   "source": [
    "# Use difference-finder\n",
    "* Test each dummy (binary) column using a binomial test.\n",
    "* Test each continuous column using a KS test.\n",
    "\n",
    "To Do: KS test is not great. Implement a test of means and a test of medians."
   ]
  }
 ],
 "metadata": {
  "kernelspec": {
   "display_name": "diff_finder",
   "language": "python",
   "name": "python3"
  },
  "language_info": {
   "codemirror_mode": {
    "name": "ipython",
    "version": 3
   },
   "file_extension": ".py",
   "mimetype": "text/x-python",
   "name": "python",
   "nbconvert_exporter": "python",
   "pygments_lexer": "ipython3",
   "version": "3.10.9"
  },
  "vscode": {
   "interpreter": {
    "hash": "af71880371ef449166e381ad2be25517becf85978ab9936befc1791abe8f351f"
   }
  }
 },
 "nbformat": 4,
 "nbformat_minor": 5
}
