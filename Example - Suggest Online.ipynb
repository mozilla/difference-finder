{
 "cells": [
  {
   "cell_type": "markdown",
   "id": "6bf64bae",
   "metadata": {},
   "source": [
    "# Example - Suggest Online\n",
    "An example of using moz_preprocess and difference_finder to segment clients by Suggest Online vs Suggest Offline, and look for differences between those 2 segments."
   ]
  },
  {
   "cell_type": "code",
   "execution_count": 1,
   "id": "30f392bc",
   "metadata": {},
   "outputs": [],
   "source": [
    "import pandas as pd\n",
    "from moz_preprocess.bq_utils import fetch_weekly_aggregate"
   ]
  },
  {
   "cell_type": "code",
   "execution_count": null,
   "id": "908c99e0",
   "metadata": {},
   "outputs": [],
   "source": [
    "!gcloud auth login --update-adc"
   ]
  },
  {
   "cell_type": "code",
   "execution_count": null,
   "id": "d8e7ca81",
   "metadata": {},
   "outputs": [],
   "source": [
    "# This will take a few minutes to run.\n",
    "df = fetch_weekly_aggregate(\n",
    "    week_start_date=\"2023-01-15\",  # Choose a different start date to avoid lunar new year.\n",
    "    segment=\"\"\"\n",
    "    CASE WHEN user_pref_browser_urlbar_quicksuggest_data_collection_enabled = 'true'\n",
    "         THEN 'online' \n",
    "         ELSE 'offline' \n",
    "         END\n",
    "    \"\"\",\n",
    "    target=\"country = 'US' and normalized_channel = 'release' and locale like 'en%'\",\n",
    "    sample=10000,  # The dataset is 15 million rows without sampling.\n",
    "    verbose=False  # Set True to see the SQL that is run.\n",
    ")  "
   ]
  },
  {
   "cell_type": "code",
   "execution_count": 3,
   "id": "2645f385",
   "metadata": {},
   "outputs": [
    {
     "data": {
      "text/plain": [
       "offline    10087\n",
       "online     10050\n",
       "Name: segment, dtype: int64"
      ]
     },
     "execution_count": 3,
     "metadata": {},
     "output_type": "execute_result"
    }
   ],
   "source": [
    "df.segment.value_counts()"
   ]
  }
 ],
 "metadata": {
  "kernelspec": {
   "display_name": "Python 3 (ipykernel)",
   "language": "python",
   "name": "python3"
  },
  "language_info": {
   "codemirror_mode": {
    "name": "ipython",
    "version": 3
   },
   "file_extension": ".py",
   "mimetype": "text/x-python",
   "name": "python",
   "nbconvert_exporter": "python",
   "pygments_lexer": "ipython3",
   "version": "3.8.2"
  }
 },
 "nbformat": 4,
 "nbformat_minor": 5
}
